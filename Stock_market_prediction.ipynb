{
  "nbformat": 4,
  "nbformat_minor": 0,
  "metadata": {
    "colab": {
      "name": "Stock_market_prediction.ipynb",
      "provenance": [],
      "collapsed_sections": [],
      "authorship_tag": "ABX9TyNozOkPRoOVLbGniHzo7Akp",
      "include_colab_link": true
    },
    "kernelspec": {
      "name": "python3",
      "display_name": "Python 3"
    },
    "widgets": {
      "application/vnd.jupyter.widget-state+json": {
        "8871d05df26142c4964c6f497d215dd3": {
          "model_module": "@jupyter-widgets/controls",
          "model_name": "HBoxModel",
          "state": {
            "_view_name": "HBoxView",
            "_dom_classes": [],
            "_model_name": "HBoxModel",
            "_view_module": "@jupyter-widgets/controls",
            "_model_module_version": "1.5.0",
            "_view_count": null,
            "_view_module_version": "1.5.0",
            "box_style": "",
            "layout": "IPY_MODEL_dfcf5660d5c142f1be770864f20bdece",
            "_model_module": "@jupyter-widgets/controls",
            "children": [
              "IPY_MODEL_3d376111a7064cb38339f18a3f1b6298",
              "IPY_MODEL_d9cf223693e149ce860b928698fd4882"
            ]
          }
        },
        "dfcf5660d5c142f1be770864f20bdece": {
          "model_module": "@jupyter-widgets/base",
          "model_name": "LayoutModel",
          "state": {
            "_view_name": "LayoutView",
            "grid_template_rows": null,
            "right": null,
            "justify_content": null,
            "_view_module": "@jupyter-widgets/base",
            "overflow": null,
            "_model_module_version": "1.2.0",
            "_view_count": null,
            "flex_flow": null,
            "width": null,
            "min_width": null,
            "border": null,
            "align_items": null,
            "bottom": null,
            "_model_module": "@jupyter-widgets/base",
            "top": null,
            "grid_column": null,
            "overflow_y": null,
            "overflow_x": null,
            "grid_auto_flow": null,
            "grid_area": null,
            "grid_template_columns": null,
            "flex": null,
            "_model_name": "LayoutModel",
            "justify_items": null,
            "grid_row": null,
            "max_height": null,
            "align_content": null,
            "visibility": null,
            "align_self": null,
            "height": null,
            "min_height": null,
            "padding": null,
            "grid_auto_rows": null,
            "grid_gap": null,
            "max_width": null,
            "order": null,
            "_view_module_version": "1.2.0",
            "grid_template_areas": null,
            "object_position": null,
            "object_fit": null,
            "grid_auto_columns": null,
            "margin": null,
            "display": null,
            "left": null
          }
        },
        "3d376111a7064cb38339f18a3f1b6298": {
          "model_module": "@jupyter-widgets/controls",
          "model_name": "IntProgressModel",
          "state": {
            "_view_name": "ProgressView",
            "style": "IPY_MODEL_467e2d4512f9434a901bcd811d2a78f7",
            "_dom_classes": [],
            "description": "100%",
            "_model_name": "IntProgressModel",
            "bar_style": "success",
            "max": 11186,
            "_view_module": "@jupyter-widgets/controls",
            "_model_module_version": "1.5.0",
            "value": 11186,
            "_view_count": null,
            "_view_module_version": "1.5.0",
            "orientation": "horizontal",
            "min": 0,
            "description_tooltip": null,
            "_model_module": "@jupyter-widgets/controls",
            "layout": "IPY_MODEL_901f1f08885545b0b52ae75635ece183"
          }
        },
        "d9cf223693e149ce860b928698fd4882": {
          "model_module": "@jupyter-widgets/controls",
          "model_name": "HTMLModel",
          "state": {
            "_view_name": "HTMLView",
            "style": "IPY_MODEL_f8ea688bc39844a993af346c79dc8206",
            "_dom_classes": [],
            "description": "",
            "_model_name": "HTMLModel",
            "placeholder": "​",
            "_view_module": "@jupyter-widgets/controls",
            "_model_module_version": "1.5.0",
            "value": " 11186/11186 [00:01&lt;00:00, 7012.11it/s]",
            "_view_count": null,
            "_view_module_version": "1.5.0",
            "description_tooltip": null,
            "_model_module": "@jupyter-widgets/controls",
            "layout": "IPY_MODEL_e9a9975b04a74aa5be6273c1df873a35"
          }
        },
        "467e2d4512f9434a901bcd811d2a78f7": {
          "model_module": "@jupyter-widgets/controls",
          "model_name": "ProgressStyleModel",
          "state": {
            "_view_name": "StyleView",
            "_model_name": "ProgressStyleModel",
            "description_width": "initial",
            "_view_module": "@jupyter-widgets/base",
            "_model_module_version": "1.5.0",
            "_view_count": null,
            "_view_module_version": "1.2.0",
            "bar_color": null,
            "_model_module": "@jupyter-widgets/controls"
          }
        },
        "901f1f08885545b0b52ae75635ece183": {
          "model_module": "@jupyter-widgets/base",
          "model_name": "LayoutModel",
          "state": {
            "_view_name": "LayoutView",
            "grid_template_rows": null,
            "right": null,
            "justify_content": null,
            "_view_module": "@jupyter-widgets/base",
            "overflow": null,
            "_model_module_version": "1.2.0",
            "_view_count": null,
            "flex_flow": null,
            "width": null,
            "min_width": null,
            "border": null,
            "align_items": null,
            "bottom": null,
            "_model_module": "@jupyter-widgets/base",
            "top": null,
            "grid_column": null,
            "overflow_y": null,
            "overflow_x": null,
            "grid_auto_flow": null,
            "grid_area": null,
            "grid_template_columns": null,
            "flex": null,
            "_model_name": "LayoutModel",
            "justify_items": null,
            "grid_row": null,
            "max_height": null,
            "align_content": null,
            "visibility": null,
            "align_self": null,
            "height": null,
            "min_height": null,
            "padding": null,
            "grid_auto_rows": null,
            "grid_gap": null,
            "max_width": null,
            "order": null,
            "_view_module_version": "1.2.0",
            "grid_template_areas": null,
            "object_position": null,
            "object_fit": null,
            "grid_auto_columns": null,
            "margin": null,
            "display": null,
            "left": null
          }
        },
        "f8ea688bc39844a993af346c79dc8206": {
          "model_module": "@jupyter-widgets/controls",
          "model_name": "DescriptionStyleModel",
          "state": {
            "_view_name": "StyleView",
            "_model_name": "DescriptionStyleModel",
            "description_width": "",
            "_view_module": "@jupyter-widgets/base",
            "_model_module_version": "1.5.0",
            "_view_count": null,
            "_view_module_version": "1.2.0",
            "_model_module": "@jupyter-widgets/controls"
          }
        },
        "e9a9975b04a74aa5be6273c1df873a35": {
          "model_module": "@jupyter-widgets/base",
          "model_name": "LayoutModel",
          "state": {
            "_view_name": "LayoutView",
            "grid_template_rows": null,
            "right": null,
            "justify_content": null,
            "_view_module": "@jupyter-widgets/base",
            "overflow": null,
            "_model_module_version": "1.2.0",
            "_view_count": null,
            "flex_flow": null,
            "width": null,
            "min_width": null,
            "border": null,
            "align_items": null,
            "bottom": null,
            "_model_module": "@jupyter-widgets/base",
            "top": null,
            "grid_column": null,
            "overflow_y": null,
            "overflow_x": null,
            "grid_auto_flow": null,
            "grid_area": null,
            "grid_template_columns": null,
            "flex": null,
            "_model_name": "LayoutModel",
            "justify_items": null,
            "grid_row": null,
            "max_height": null,
            "align_content": null,
            "visibility": null,
            "align_self": null,
            "height": null,
            "min_height": null,
            "padding": null,
            "grid_auto_rows": null,
            "grid_gap": null,
            "max_width": null,
            "order": null,
            "_view_module_version": "1.2.0",
            "grid_template_areas": null,
            "object_position": null,
            "object_fit": null,
            "grid_auto_columns": null,
            "margin": null,
            "display": null,
            "left": null
          }
        },
        "60d8ef97acca41ec8274bb77e625e4a9": {
          "model_module": "@jupyter-widgets/controls",
          "model_name": "HBoxModel",
          "state": {
            "_view_name": "HBoxView",
            "_dom_classes": [],
            "_model_name": "HBoxModel",
            "_view_module": "@jupyter-widgets/controls",
            "_model_module_version": "1.5.0",
            "_view_count": null,
            "_view_module_version": "1.5.0",
            "box_style": "",
            "layout": "IPY_MODEL_02c50db760b3419b9f028ccee5ecd96f",
            "_model_module": "@jupyter-widgets/controls",
            "children": [
              "IPY_MODEL_e6eb3da15aa245aa918de26b9cd045be",
              "IPY_MODEL_90d03968878d4a279116c4f12b1b9bd3"
            ]
          }
        },
        "02c50db760b3419b9f028ccee5ecd96f": {
          "model_module": "@jupyter-widgets/base",
          "model_name": "LayoutModel",
          "state": {
            "_view_name": "LayoutView",
            "grid_template_rows": null,
            "right": null,
            "justify_content": null,
            "_view_module": "@jupyter-widgets/base",
            "overflow": null,
            "_model_module_version": "1.2.0",
            "_view_count": null,
            "flex_flow": null,
            "width": null,
            "min_width": null,
            "border": null,
            "align_items": null,
            "bottom": null,
            "_model_module": "@jupyter-widgets/base",
            "top": null,
            "grid_column": null,
            "overflow_y": null,
            "overflow_x": null,
            "grid_auto_flow": null,
            "grid_area": null,
            "grid_template_columns": null,
            "flex": null,
            "_model_name": "LayoutModel",
            "justify_items": null,
            "grid_row": null,
            "max_height": null,
            "align_content": null,
            "visibility": null,
            "align_self": null,
            "height": null,
            "min_height": null,
            "padding": null,
            "grid_auto_rows": null,
            "grid_gap": null,
            "max_width": null,
            "order": null,
            "_view_module_version": "1.2.0",
            "grid_template_areas": null,
            "object_position": null,
            "object_fit": null,
            "grid_auto_columns": null,
            "margin": null,
            "display": null,
            "left": null
          }
        },
        "e6eb3da15aa245aa918de26b9cd045be": {
          "model_module": "@jupyter-widgets/controls",
          "model_name": "IntProgressModel",
          "state": {
            "_view_name": "ProgressView",
            "style": "IPY_MODEL_09cd72c49adc42ddb11711ccde70d403",
            "_dom_classes": [],
            "description": "100%",
            "_model_name": "IntProgressModel",
            "bar_style": "success",
            "max": 2752,
            "_view_module": "@jupyter-widgets/controls",
            "_model_module_version": "1.5.0",
            "value": 2752,
            "_view_count": null,
            "_view_module_version": "1.5.0",
            "orientation": "horizontal",
            "min": 0,
            "description_tooltip": null,
            "_model_module": "@jupyter-widgets/controls",
            "layout": "IPY_MODEL_fc554d19ab8a4f1aaef14dcdd4948f44"
          }
        },
        "90d03968878d4a279116c4f12b1b9bd3": {
          "model_module": "@jupyter-widgets/controls",
          "model_name": "HTMLModel",
          "state": {
            "_view_name": "HTMLView",
            "style": "IPY_MODEL_037a365c8d21458b9871e0acb81048c2",
            "_dom_classes": [],
            "description": "",
            "_model_name": "HTMLModel",
            "placeholder": "​",
            "_view_module": "@jupyter-widgets/controls",
            "_model_module_version": "1.5.0",
            "value": " 2752/2752 [00:01&lt;00:00, 1804.93it/s]",
            "_view_count": null,
            "_view_module_version": "1.5.0",
            "description_tooltip": null,
            "_model_module": "@jupyter-widgets/controls",
            "layout": "IPY_MODEL_b8187607b5ed4277856074e3a5543ddc"
          }
        },
        "09cd72c49adc42ddb11711ccde70d403": {
          "model_module": "@jupyter-widgets/controls",
          "model_name": "ProgressStyleModel",
          "state": {
            "_view_name": "StyleView",
            "_model_name": "ProgressStyleModel",
            "description_width": "initial",
            "_view_module": "@jupyter-widgets/base",
            "_model_module_version": "1.5.0",
            "_view_count": null,
            "_view_module_version": "1.2.0",
            "bar_color": null,
            "_model_module": "@jupyter-widgets/controls"
          }
        },
        "fc554d19ab8a4f1aaef14dcdd4948f44": {
          "model_module": "@jupyter-widgets/base",
          "model_name": "LayoutModel",
          "state": {
            "_view_name": "LayoutView",
            "grid_template_rows": null,
            "right": null,
            "justify_content": null,
            "_view_module": "@jupyter-widgets/base",
            "overflow": null,
            "_model_module_version": "1.2.0",
            "_view_count": null,
            "flex_flow": null,
            "width": null,
            "min_width": null,
            "border": null,
            "align_items": null,
            "bottom": null,
            "_model_module": "@jupyter-widgets/base",
            "top": null,
            "grid_column": null,
            "overflow_y": null,
            "overflow_x": null,
            "grid_auto_flow": null,
            "grid_area": null,
            "grid_template_columns": null,
            "flex": null,
            "_model_name": "LayoutModel",
            "justify_items": null,
            "grid_row": null,
            "max_height": null,
            "align_content": null,
            "visibility": null,
            "align_self": null,
            "height": null,
            "min_height": null,
            "padding": null,
            "grid_auto_rows": null,
            "grid_gap": null,
            "max_width": null,
            "order": null,
            "_view_module_version": "1.2.0",
            "grid_template_areas": null,
            "object_position": null,
            "object_fit": null,
            "grid_auto_columns": null,
            "margin": null,
            "display": null,
            "left": null
          }
        },
        "037a365c8d21458b9871e0acb81048c2": {
          "model_module": "@jupyter-widgets/controls",
          "model_name": "DescriptionStyleModel",
          "state": {
            "_view_name": "StyleView",
            "_model_name": "DescriptionStyleModel",
            "description_width": "",
            "_view_module": "@jupyter-widgets/base",
            "_model_module_version": "1.5.0",
            "_view_count": null,
            "_view_module_version": "1.2.0",
            "_model_module": "@jupyter-widgets/controls"
          }
        },
        "b8187607b5ed4277856074e3a5543ddc": {
          "model_module": "@jupyter-widgets/base",
          "model_name": "LayoutModel",
          "state": {
            "_view_name": "LayoutView",
            "grid_template_rows": null,
            "right": null,
            "justify_content": null,
            "_view_module": "@jupyter-widgets/base",
            "overflow": null,
            "_model_module_version": "1.2.0",
            "_view_count": null,
            "flex_flow": null,
            "width": null,
            "min_width": null,
            "border": null,
            "align_items": null,
            "bottom": null,
            "_model_module": "@jupyter-widgets/base",
            "top": null,
            "grid_column": null,
            "overflow_y": null,
            "overflow_x": null,
            "grid_auto_flow": null,
            "grid_area": null,
            "grid_template_columns": null,
            "flex": null,
            "_model_name": "LayoutModel",
            "justify_items": null,
            "grid_row": null,
            "max_height": null,
            "align_content": null,
            "visibility": null,
            "align_self": null,
            "height": null,
            "min_height": null,
            "padding": null,
            "grid_auto_rows": null,
            "grid_gap": null,
            "max_width": null,
            "order": null,
            "_view_module_version": "1.2.0",
            "grid_template_areas": null,
            "object_position": null,
            "object_fit": null,
            "grid_auto_columns": null,
            "margin": null,
            "display": null,
            "left": null
          }
        }
      }
    }
  },
  "cells": [
    {
      "cell_type": "markdown",
      "metadata": {
        "id": "view-in-github",
        "colab_type": "text"
      },
      "source": [
        "<a href=\"https://colab.research.google.com/github/pranavgupta001/Stock-Price-Prediction/blob/master/Stock_market_prediction.ipynb\" target=\"_parent\"><img src=\"https://colab.research.google.com/assets/colab-badge.svg\" alt=\"Open In Colab\"/></a>"
      ]
    },
    {
      "cell_type": "code",
      "metadata": {
        "id": "nPmuP3hiAksI",
        "colab_type": "code",
        "outputId": "f7c504f0-cb0a-4be0-a62b-85793a471d04",
        "colab": {
          "base_uri": "https://localhost:8080/",
          "height": 666
        }
      },
      "source": [
        "!pip install tensorflow==1.14.0"
      ],
      "execution_count": 1,
      "outputs": [
        {
          "output_type": "stream",
          "text": [
            "Collecting tensorflow==1.14.0\n",
            "\u001b[?25l  Downloading https://files.pythonhosted.org/packages/de/f0/96fb2e0412ae9692dbf400e5b04432885f677ad6241c088ccc5fe7724d69/tensorflow-1.14.0-cp36-cp36m-manylinux1_x86_64.whl (109.2MB)\n",
            "\u001b[K     |████████████████████████████████| 109.2MB 89kB/s \n",
            "\u001b[?25hRequirement already satisfied: protobuf>=3.6.1 in /usr/local/lib/python3.6/dist-packages (from tensorflow==1.14.0) (3.10.0)\n",
            "Collecting tensorflow-estimator<1.15.0rc0,>=1.14.0rc0\n",
            "\u001b[?25l  Downloading https://files.pythonhosted.org/packages/3c/d5/21860a5b11caf0678fbc8319341b0ae21a07156911132e0e71bffed0510d/tensorflow_estimator-1.14.0-py2.py3-none-any.whl (488kB)\n",
            "\u001b[K     |████████████████████████████████| 491kB 46.6MB/s \n",
            "\u001b[?25hCollecting tensorboard<1.15.0,>=1.14.0\n",
            "\u001b[?25l  Downloading https://files.pythonhosted.org/packages/91/2d/2ed263449a078cd9c8a9ba50ebd50123adf1f8cfbea1492f9084169b89d9/tensorboard-1.14.0-py3-none-any.whl (3.1MB)\n",
            "\u001b[K     |████████████████████████████████| 3.2MB 43.6MB/s \n",
            "\u001b[?25hRequirement already satisfied: numpy<2.0,>=1.14.5 in /usr/local/lib/python3.6/dist-packages (from tensorflow==1.14.0) (1.18.2)\n",
            "Requirement already satisfied: six>=1.10.0 in /usr/local/lib/python3.6/dist-packages (from tensorflow==1.14.0) (1.12.0)\n",
            "Requirement already satisfied: gast>=0.2.0 in /usr/local/lib/python3.6/dist-packages (from tensorflow==1.14.0) (0.3.3)\n",
            "Requirement already satisfied: keras-applications>=1.0.6 in /usr/local/lib/python3.6/dist-packages (from tensorflow==1.14.0) (1.0.8)\n",
            "Requirement already satisfied: keras-preprocessing>=1.0.5 in /usr/local/lib/python3.6/dist-packages (from tensorflow==1.14.0) (1.1.0)\n",
            "Requirement already satisfied: wrapt>=1.11.1 in /usr/local/lib/python3.6/dist-packages (from tensorflow==1.14.0) (1.12.1)\n",
            "Requirement already satisfied: wheel>=0.26 in /usr/local/lib/python3.6/dist-packages (from tensorflow==1.14.0) (0.34.2)\n",
            "Requirement already satisfied: absl-py>=0.7.0 in /usr/local/lib/python3.6/dist-packages (from tensorflow==1.14.0) (0.9.0)\n",
            "Requirement already satisfied: google-pasta>=0.1.6 in /usr/local/lib/python3.6/dist-packages (from tensorflow==1.14.0) (0.2.0)\n",
            "Requirement already satisfied: grpcio>=1.8.6 in /usr/local/lib/python3.6/dist-packages (from tensorflow==1.14.0) (1.27.2)\n",
            "Requirement already satisfied: termcolor>=1.1.0 in /usr/local/lib/python3.6/dist-packages (from tensorflow==1.14.0) (1.1.0)\n",
            "Requirement already satisfied: astor>=0.6.0 in /usr/local/lib/python3.6/dist-packages (from tensorflow==1.14.0) (0.8.1)\n",
            "Requirement already satisfied: setuptools in /usr/local/lib/python3.6/dist-packages (from protobuf>=3.6.1->tensorflow==1.14.0) (46.0.0)\n",
            "Requirement already satisfied: werkzeug>=0.11.15 in /usr/local/lib/python3.6/dist-packages (from tensorboard<1.15.0,>=1.14.0->tensorflow==1.14.0) (1.0.0)\n",
            "Requirement already satisfied: markdown>=2.6.8 in /usr/local/lib/python3.6/dist-packages (from tensorboard<1.15.0,>=1.14.0->tensorflow==1.14.0) (3.2.1)\n",
            "Requirement already satisfied: h5py in /usr/local/lib/python3.6/dist-packages (from keras-applications>=1.0.6->tensorflow==1.14.0) (2.10.0)\n",
            "Installing collected packages: tensorflow-estimator, tensorboard, tensorflow\n",
            "  Found existing installation: tensorflow-estimator 2.2.0rc0\n",
            "    Uninstalling tensorflow-estimator-2.2.0rc0:\n",
            "      Successfully uninstalled tensorflow-estimator-2.2.0rc0\n",
            "  Found existing installation: tensorboard 2.2.0\n",
            "    Uninstalling tensorboard-2.2.0:\n",
            "      Successfully uninstalled tensorboard-2.2.0\n",
            "  Found existing installation: tensorflow 2.2.0rc2\n",
            "    Uninstalling tensorflow-2.2.0rc2:\n",
            "      Successfully uninstalled tensorflow-2.2.0rc2\n",
            "Successfully installed tensorboard-1.14.0 tensorflow-1.14.0 tensorflow-estimator-1.14.0\n"
          ],
          "name": "stdout"
        }
      ]
    },
    {
      "cell_type": "code",
      "metadata": {
        "id": "i7EYCzloC_3j",
        "colab_type": "code",
        "outputId": "808d960b-01d6-49a3-bfa3-bd9b23b6d89d",
        "colab": {
          "base_uri": "https://localhost:8080/",
          "height": 508
        }
      },
      "source": [
        "import pandas as pd\n",
        "import os\n",
        "from matplotlib import pyplot as plt\n",
        "from sklearn.preprocessing import MinMaxScaler\n",
        "from sklearn.model_selection import train_test_split\n",
        "import numpy as np\n",
        "from tqdm.notebook import tqdm_notebook\n",
        "from tensorflow.python.keras.layers import Dense,Dropout\n",
        "from tensorflow.python.keras import Sequential\n",
        "from tensorflow.python.keras import optimizers\n",
        "from tensorflow.python.keras.models import load_model\n",
        "from tensorflow.python.keras.layers import LSTM\n",
        "import keras.backend as K\n",
        "from sklearn.metrics import mean_squared_error\n",
        "#from keras.layers import Dense,Dropout\n",
        "#from keras.layers import LSTM\n",
        "#from keras import optimizers\n",
        "import tensorflow\n",
        "\n"
      ],
      "execution_count": 2,
      "outputs": [
        {
          "output_type": "stream",
          "text": [
            "/usr/local/lib/python3.6/dist-packages/tensorflow/python/framework/dtypes.py:516: FutureWarning: Passing (type, 1) or '1type' as a synonym of type is deprecated; in a future version of numpy, it will be understood as (type, (1,)) / '(1,)type'.\n",
            "  _np_qint8 = np.dtype([(\"qint8\", np.int8, 1)])\n",
            "/usr/local/lib/python3.6/dist-packages/tensorflow/python/framework/dtypes.py:517: FutureWarning: Passing (type, 1) or '1type' as a synonym of type is deprecated; in a future version of numpy, it will be understood as (type, (1,)) / '(1,)type'.\n",
            "  _np_quint8 = np.dtype([(\"quint8\", np.uint8, 1)])\n",
            "/usr/local/lib/python3.6/dist-packages/tensorflow/python/framework/dtypes.py:518: FutureWarning: Passing (type, 1) or '1type' as a synonym of type is deprecated; in a future version of numpy, it will be understood as (type, (1,)) / '(1,)type'.\n",
            "  _np_qint16 = np.dtype([(\"qint16\", np.int16, 1)])\n",
            "/usr/local/lib/python3.6/dist-packages/tensorflow/python/framework/dtypes.py:519: FutureWarning: Passing (type, 1) or '1type' as a synonym of type is deprecated; in a future version of numpy, it will be understood as (type, (1,)) / '(1,)type'.\n",
            "  _np_quint16 = np.dtype([(\"quint16\", np.uint16, 1)])\n",
            "/usr/local/lib/python3.6/dist-packages/tensorflow/python/framework/dtypes.py:520: FutureWarning: Passing (type, 1) or '1type' as a synonym of type is deprecated; in a future version of numpy, it will be understood as (type, (1,)) / '(1,)type'.\n",
            "  _np_qint32 = np.dtype([(\"qint32\", np.int32, 1)])\n",
            "/usr/local/lib/python3.6/dist-packages/tensorflow/python/framework/dtypes.py:525: FutureWarning: Passing (type, 1) or '1type' as a synonym of type is deprecated; in a future version of numpy, it will be understood as (type, (1,)) / '(1,)type'.\n",
            "  np_resource = np.dtype([(\"resource\", np.ubyte, 1)])\n",
            "/usr/local/lib/python3.6/dist-packages/tensorboard/compat/tensorflow_stub/dtypes.py:541: FutureWarning: Passing (type, 1) or '1type' as a synonym of type is deprecated; in a future version of numpy, it will be understood as (type, (1,)) / '(1,)type'.\n",
            "  _np_qint8 = np.dtype([(\"qint8\", np.int8, 1)])\n",
            "/usr/local/lib/python3.6/dist-packages/tensorboard/compat/tensorflow_stub/dtypes.py:542: FutureWarning: Passing (type, 1) or '1type' as a synonym of type is deprecated; in a future version of numpy, it will be understood as (type, (1,)) / '(1,)type'.\n",
            "  _np_quint8 = np.dtype([(\"quint8\", np.uint8, 1)])\n",
            "/usr/local/lib/python3.6/dist-packages/tensorboard/compat/tensorflow_stub/dtypes.py:543: FutureWarning: Passing (type, 1) or '1type' as a synonym of type is deprecated; in a future version of numpy, it will be understood as (type, (1,)) / '(1,)type'.\n",
            "  _np_qint16 = np.dtype([(\"qint16\", np.int16, 1)])\n",
            "/usr/local/lib/python3.6/dist-packages/tensorboard/compat/tensorflow_stub/dtypes.py:544: FutureWarning: Passing (type, 1) or '1type' as a synonym of type is deprecated; in a future version of numpy, it will be understood as (type, (1,)) / '(1,)type'.\n",
            "  _np_quint16 = np.dtype([(\"quint16\", np.uint16, 1)])\n",
            "/usr/local/lib/python3.6/dist-packages/tensorboard/compat/tensorflow_stub/dtypes.py:545: FutureWarning: Passing (type, 1) or '1type' as a synonym of type is deprecated; in a future version of numpy, it will be understood as (type, (1,)) / '(1,)type'.\n",
            "  _np_qint32 = np.dtype([(\"qint32\", np.int32, 1)])\n",
            "/usr/local/lib/python3.6/dist-packages/tensorboard/compat/tensorflow_stub/dtypes.py:550: FutureWarning: Passing (type, 1) or '1type' as a synonym of type is deprecated; in a future version of numpy, it will be understood as (type, (1,)) / '(1,)type'.\n",
            "  np_resource = np.dtype([(\"resource\", np.ubyte, 1)])\n"
          ],
          "name": "stderr"
        },
        {
          "output_type": "display_data",
          "data": {
            "text/html": [
              "<p style=\"color: red;\">\n",
              "The default version of TensorFlow in Colab will switch to TensorFlow 2.x on the 27th of March, 2020.<br>\n",
              "We recommend you <a href=\"https://www.tensorflow.org/guide/migrate\" target=\"_blank\">upgrade</a> now\n",
              "or ensure your notebook will continue to use TensorFlow 1.x via the <code>%tensorflow_version 1.x</code> magic:\n",
              "<a href=\"https://colab.research.google.com/notebooks/tensorflow_version.ipynb\" target=\"_blank\">more info</a>.</p>\n"
            ],
            "text/plain": [
              "<IPython.core.display.HTML object>"
            ]
          },
          "metadata": {
            "tags": []
          }
        },
        {
          "output_type": "stream",
          "text": [
            "Using TensorFlow backend.\n"
          ],
          "name": "stderr"
        }
      ]
    },
    {
      "cell_type": "code",
      "metadata": {
        "id": "VT_7ihoTEPA4",
        "colab_type": "code",
        "outputId": "e422441e-5f7b-4f24-e691-c48840c2dcc3",
        "colab": {
          "resources": {
            "http://localhost:8080/nbextensions/google.colab/files.js": {
              "data": "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",
              "ok": true,
              "headers": [
                [
                  "content-type",
                  "application/javascript"
                ]
              ],
              "status": 200,
              "status_text": ""
            }
          },
          "base_uri": "https://localhost:8080/",
          "height": 74
        }
      },
      "source": [
        "from google.colab import files\n",
        "upload=  files.upload()"
      ],
      "execution_count": 3,
      "outputs": [
        {
          "output_type": "display_data",
          "data": {
            "text/html": [
              "\n",
              "     <input type=\"file\" id=\"files-af54087b-b8bd-4e70-8543-417e3d2b7f57\" name=\"files[]\" multiple disabled />\n",
              "     <output id=\"result-af54087b-b8bd-4e70-8543-417e3d2b7f57\">\n",
              "      Upload widget is only available when the cell has been executed in the\n",
              "      current browser session. Please rerun this cell to enable.\n",
              "      </output>\n",
              "      <script src=\"/nbextensions/google.colab/files.js\"></script> "
            ],
            "text/plain": [
              "<IPython.core.display.HTML object>"
            ]
          },
          "metadata": {
            "tags": []
          }
        },
        {
          "output_type": "stream",
          "text": [
            "Saving ge.us.txt to ge.us.txt\n"
          ],
          "name": "stdout"
        }
      ]
    },
    {
      "cell_type": "code",
      "metadata": {
        "id": "kcmnbS0pKQXB",
        "colab_type": "code",
        "colab": {}
      },
      "source": [
        "import io\n",
        "df = pd.read_csv(io.BytesIO(upload['ge.us.txt']))"
      ],
      "execution_count": 0,
      "outputs": []
    },
    {
      "cell_type": "code",
      "metadata": {
        "id": "qj4B8ovEKias",
        "colab_type": "code",
        "outputId": "23442dff-e68a-4d50-f1a4-bc54f6af277c",
        "colab": {
          "base_uri": "https://localhost:8080/",
          "height": 204
        }
      },
      "source": [
        "df.tail()"
      ],
      "execution_count": 5,
      "outputs": [
        {
          "output_type": "execute_result",
          "data": {
            "text/html": [
              "<div>\n",
              "<style scoped>\n",
              "    .dataframe tbody tr th:only-of-type {\n",
              "        vertical-align: middle;\n",
              "    }\n",
              "\n",
              "    .dataframe tbody tr th {\n",
              "        vertical-align: top;\n",
              "    }\n",
              "\n",
              "    .dataframe thead th {\n",
              "        text-align: right;\n",
              "    }\n",
              "</style>\n",
              "<table border=\"1\" class=\"dataframe\">\n",
              "  <thead>\n",
              "    <tr style=\"text-align: right;\">\n",
              "      <th></th>\n",
              "      <th>Date</th>\n",
              "      <th>Open</th>\n",
              "      <th>High</th>\n",
              "      <th>Low</th>\n",
              "      <th>Close</th>\n",
              "      <th>Volume</th>\n",
              "      <th>OpenInt</th>\n",
              "    </tr>\n",
              "  </thead>\n",
              "  <tbody>\n",
              "    <tr>\n",
              "      <th>14053</th>\n",
              "      <td>2017-11-06</td>\n",
              "      <td>20.52</td>\n",
              "      <td>20.530</td>\n",
              "      <td>20.08</td>\n",
              "      <td>20.13</td>\n",
              "      <td>60641787</td>\n",
              "      <td>0</td>\n",
              "    </tr>\n",
              "    <tr>\n",
              "      <th>14054</th>\n",
              "      <td>2017-11-07</td>\n",
              "      <td>20.17</td>\n",
              "      <td>20.250</td>\n",
              "      <td>20.12</td>\n",
              "      <td>20.21</td>\n",
              "      <td>41622851</td>\n",
              "      <td>0</td>\n",
              "    </tr>\n",
              "    <tr>\n",
              "      <th>14055</th>\n",
              "      <td>2017-11-08</td>\n",
              "      <td>20.21</td>\n",
              "      <td>20.320</td>\n",
              "      <td>20.07</td>\n",
              "      <td>20.12</td>\n",
              "      <td>39672190</td>\n",
              "      <td>0</td>\n",
              "    </tr>\n",
              "    <tr>\n",
              "      <th>14056</th>\n",
              "      <td>2017-11-09</td>\n",
              "      <td>20.04</td>\n",
              "      <td>20.071</td>\n",
              "      <td>19.85</td>\n",
              "      <td>19.99</td>\n",
              "      <td>50831779</td>\n",
              "      <td>0</td>\n",
              "    </tr>\n",
              "    <tr>\n",
              "      <th>14057</th>\n",
              "      <td>2017-11-10</td>\n",
              "      <td>19.98</td>\n",
              "      <td>20.680</td>\n",
              "      <td>19.90</td>\n",
              "      <td>20.49</td>\n",
              "      <td>100698474</td>\n",
              "      <td>0</td>\n",
              "    </tr>\n",
              "  </tbody>\n",
              "</table>\n",
              "</div>"
            ],
            "text/plain": [
              "             Date   Open    High    Low  Close     Volume  OpenInt\n",
              "14053  2017-11-06  20.52  20.530  20.08  20.13   60641787        0\n",
              "14054  2017-11-07  20.17  20.250  20.12  20.21   41622851        0\n",
              "14055  2017-11-08  20.21  20.320  20.07  20.12   39672190        0\n",
              "14056  2017-11-09  20.04  20.071  19.85  19.99   50831779        0\n",
              "14057  2017-11-10  19.98  20.680  19.90  20.49  100698474        0"
            ]
          },
          "metadata": {
            "tags": []
          },
          "execution_count": 5
        }
      ]
    },
    {
      "cell_type": "code",
      "metadata": {
        "id": "pbR4lMjMKjVU",
        "colab_type": "code",
        "outputId": "2e58452b-5703-4b6b-f043-12f588d165c0",
        "colab": {
          "base_uri": "https://localhost:8080/",
          "height": 621
        }
      },
      "source": [
        "plt.figure(figsize=(10,10))\n",
        "plt.plot(df['Open'])\n",
        "plt.plot(df['Close'])\n",
        "plt.plot(df['High'])\n",
        "plt.plot(df['Low'])\n",
        "plt.title('GE stock price')\n",
        "plt.xlabel('Date')\n",
        "plt.ylabel('Price(usd)')\n",
        "plt.legend(['Open','High','Low','Close'])\n",
        "plt.show()"
      ],
      "execution_count": 6,
      "outputs": [
        {
          "output_type": "display_data",
          "data": {
            "image/png": "[encoded data removed]",
            "text/plain": [
              "<Figure size 720x720 with 1 Axes>"
            ]
          },
          "metadata": {
            "tags": []
          }
        }
      ]
    },
    {
      "cell_type": "code",
      "metadata": {
        "id": "ya6PfRQUjIlc",
        "colab_type": "code",
        "outputId": "3ffe93e5-212e-43eb-ec10-9d6176947ec4",
        "colab": {
          "base_uri": "https://localhost:8080/",
          "height": 307
        }
      },
      "source": [
        "plt.plot(df['Volume'])\n",
        "plt.xlabel('Date')\n",
        "plt.ylabel('Volume')\n"
      ],
      "execution_count": 7,
      "outputs": [
        {
          "output_type": "execute_result",
          "data": {
            "text/plain": [
              "Text(0, 0.5, 'Volume')"
            ]
          },
          "metadata": {
            "tags": []
          },
          "execution_count": 7
        },
        {
          "output_type": "display_data",
          "data": {
            "image/png": "[encoded data removed]",
            "text/plain": [
              "<Figure size 432x288 with 1 Axes>"
            ]
          },
          "metadata": {
            "tags": []
          }
        }
      ]
    },
    {
      "cell_type": "code",
      "metadata": {
        "id": "j3ZNqyc5nI1L",
        "colab_type": "code",
        "outputId": "fa3a3d28-fba0-4592-a285-52b1e1f2860c",
        "colab": {
          "base_uri": "https://localhost:8080/",
          "height": 153
        }
      },
      "source": [
        "df.isna().sum()"
      ],
      "execution_count": 8,
      "outputs": [
        {
          "output_type": "execute_result",
          "data": {
            "text/plain": [
              "Date       0\n",
              "Open       0\n",
              "High       0\n",
              "Low        0\n",
              "Close      0\n",
              "Volume     0\n",
              "OpenInt    0\n",
              "dtype: int64"
            ]
          },
          "metadata": {
            "tags": []
          },
          "execution_count": 8
        }
      ]
    },
    {
      "cell_type": "code",
      "metadata": {
        "id": "YoyXqCYIqdjm",
        "colab_type": "code",
        "colab": {}
      },
      "source": [
        ""
      ],
      "execution_count": 0,
      "outputs": []
    },
    {
      "cell_type": "code",
      "metadata": {
        "id": "-jUXqOFd_POW",
        "colab_type": "code",
        "colab": {}
      },
      "source": [
        "df_fortrain=df[[\"Open\",\"Close\",\"High\",\"Low\",\"Volume\"]]"
      ],
      "execution_count": 0,
      "outputs": []
    },
    {
      "cell_type": "code",
      "metadata": {
        "id": "hmQ73d5A_WqQ",
        "colab_type": "code",
        "colab": {}
      },
      "source": [
        "df_train,df_test= train_test_split(df_fortrain,train_size=0.8,test_size=0.2,shuffle=False)\n"
      ],
      "execution_count": 0,
      "outputs": []
    },
    {
      "cell_type": "code",
      "metadata": {
        "id": "pHP1a_VeI6Zw",
        "colab_type": "code",
        "colab": {}
      },
      "source": [
        "min_max_scaler =MinMaxScaler()\n",
        "x_train = min_max_scaler.fit_transform(df_train)\n",
        "x_test = min_max_scaler.fit_transform(df_test)\n"
      ],
      "execution_count": 0,
      "outputs": []
    },
    {
      "cell_type": "code",
      "metadata": {
        "id": "AysDv3f7JYS0",
        "colab_type": "code",
        "outputId": "c0a2f351-7e9c-4058-fc70-00f787864acf",
        "colab": {
          "base_uri": "https://localhost:8080/",
          "height": 419
        }
      },
      "source": [
        "pd.DataFrame(x_train,index=x_train[:,0])"
      ],
      "execution_count": 12,
      "outputs": [
        {
          "output_type": "execute_result",
          "data": {
            "text/html": [
              "<div>\n",
              "<style scoped>\n",
              "    .dataframe tbody tr th:only-of-type {\n",
              "        vertical-align: middle;\n",
              "    }\n",
              "\n",
              "    .dataframe tbody tr th {\n",
              "        vertical-align: top;\n",
              "    }\n",
              "\n",
              "    .dataframe thead th {\n",
              "        text-align: right;\n",
              "    }\n",
              "</style>\n",
              "<table border=\"1\" class=\"dataframe\">\n",
              "  <thead>\n",
              "    <tr style=\"text-align: right;\">\n",
              "      <th></th>\n",
              "      <th>0</th>\n",
              "      <th>1</th>\n",
              "      <th>2</th>\n",
              "      <th>3</th>\n",
              "      <th>4</th>\n",
              "    </tr>\n",
              "  </thead>\n",
              "  <tbody>\n",
              "    <tr>\n",
              "      <th>0.003567</th>\n",
              "      <td>0.003567</td>\n",
              "      <td>0.003384</td>\n",
              "      <td>0.003528</td>\n",
              "      <td>0.003584</td>\n",
              "      <td>0.021083</td>\n",
              "    </tr>\n",
              "    <tr>\n",
              "      <th>0.003406</th>\n",
              "      <td>0.003406</td>\n",
              "      <td>0.003384</td>\n",
              "      <td>0.003192</td>\n",
              "      <td>0.003416</td>\n",
              "      <td>0.013655</td>\n",
              "    </tr>\n",
              "    <tr>\n",
              "      <th>0.003406</th>\n",
              "      <td>0.003406</td>\n",
              "      <td>0.003218</td>\n",
              "      <td>0.003192</td>\n",
              "      <td>0.003236</td>\n",
              "      <td>0.017587</td>\n",
              "    </tr>\n",
              "    <tr>\n",
              "      <th>0.003239</th>\n",
              "      <td>0.003239</td>\n",
              "      <td>0.002872</td>\n",
              "      <td>0.003028</td>\n",
              "      <td>0.002729</td>\n",
              "      <td>0.027309</td>\n",
              "    </tr>\n",
              "    <tr>\n",
              "      <th>0.002890</th>\n",
              "      <td>0.002890</td>\n",
              "      <td>0.002872</td>\n",
              "      <td>0.002684</td>\n",
              "      <td>0.002555</td>\n",
              "      <td>0.031351</td>\n",
              "    </tr>\n",
              "    <tr>\n",
              "      <th>...</th>\n",
              "      <td>...</td>\n",
              "      <td>...</td>\n",
              "      <td>...</td>\n",
              "      <td>...</td>\n",
              "      <td>...</td>\n",
              "    </tr>\n",
              "    <tr>\n",
              "      <th>0.566903</th>\n",
              "      <td>0.566903</td>\n",
              "      <td>0.564636</td>\n",
              "      <td>0.561449</td>\n",
              "      <td>0.568521</td>\n",
              "      <td>0.209744</td>\n",
              "    </tr>\n",
              "    <tr>\n",
              "      <th>0.566586</th>\n",
              "      <td>0.566586</td>\n",
              "      <td>0.566128</td>\n",
              "      <td>0.563178</td>\n",
              "      <td>0.568161</td>\n",
              "      <td>0.335852</td>\n",
              "    </tr>\n",
              "    <tr>\n",
              "      <th>0.567390</th>\n",
              "      <td>0.567390</td>\n",
              "      <td>0.565645</td>\n",
              "      <td>0.561449</td>\n",
              "      <td>0.569009</td>\n",
              "      <td>0.160414</td>\n",
              "    </tr>\n",
              "    <tr>\n",
              "      <th>0.566586</th>\n",
              "      <td>0.566586</td>\n",
              "      <td>0.572704</td>\n",
              "      <td>0.567825</td>\n",
              "      <td>0.566952</td>\n",
              "      <td>0.242176</td>\n",
              "    </tr>\n",
              "    <tr>\n",
              "      <th>0.576398</th>\n",
              "      <td>0.576398</td>\n",
              "      <td>0.576780</td>\n",
              "      <td>0.572930</td>\n",
              "      <td>0.577557</td>\n",
              "      <td>0.253395</td>\n",
              "    </tr>\n",
              "  </tbody>\n",
              "</table>\n",
              "<p>11246 rows × 5 columns</p>\n",
              "</div>"
            ],
            "text/plain": [
              "                 0         1         2         3         4\n",
              "0.003567  0.003567  0.003384  0.003528  0.003584  0.021083\n",
              "0.003406  0.003406  0.003384  0.003192  0.003416  0.013655\n",
              "0.003406  0.003406  0.003218  0.003192  0.003236  0.017587\n",
              "0.003239  0.003239  0.002872  0.003028  0.002729  0.027309\n",
              "0.002890  0.002890  0.002872  0.002684  0.002555  0.031351\n",
              "...            ...       ...       ...       ...       ...\n",
              "0.566903  0.566903  0.564636  0.561449  0.568521  0.209744\n",
              "0.566586  0.566586  0.566128  0.563178  0.568161  0.335852\n",
              "0.567390  0.567390  0.565645  0.561449  0.569009  0.160414\n",
              "0.566586  0.566586  0.572704  0.567825  0.566952  0.242176\n",
              "0.576398  0.576398  0.576780  0.572930  0.577557  0.253395\n",
              "\n",
              "[11246 rows x 5 columns]"
            ]
          },
          "metadata": {
            "tags": []
          },
          "execution_count": 12
        }
      ]
    },
    {
      "cell_type": "code",
      "metadata": {
        "id": "naVPTfUoJek_",
        "colab_type": "code",
        "colab": {}
      },
      "source": [
        "def build_timeseries(mat,y_col_index):\n",
        "  dim_0 =mat.shape[0]-Time_Steps\n",
        "  dim_1 = mat.shape[1]\n",
        "  x = np.zeros((dim_0,Time_Steps,dim_1))\n",
        "  y = np.zeros((dim_0))\n",
        "\n",
        "  for i in tqdm_notebook(range(dim_0)):\n",
        "    x[i] = mat[i:Time_Steps+i]\n",
        "    y[i] = mat[Time_Steps+i,y_col_index]\n",
        "  print(\"lengthof time_series i/o\",x.shape,y.shape)\n",
        "\n",
        "  return x,y\n",
        "  "
      ],
      "execution_count": 0,
      "outputs": []
    },
    {
      "cell_type": "code",
      "metadata": {
        "id": "yMUAzALKmk74",
        "colab_type": "code",
        "colab": {}
      },
      "source": [
        "def trim_dataset(mat,batch_size):\n",
        "  no_of_rows_drop =mat.shape[0]%batch_size\n",
        "  if(no_of_rows_drop>0):\n",
        "    return mat[:-no_of_rows_drop]\n",
        "  else:\n",
        "    return mat\n",
        "    \n"
      ],
      "execution_count": 0,
      "outputs": []
    },
    {
      "cell_type": "code",
      "metadata": {
        "id": "OGSvpnzKpJA1",
        "colab_type": "code",
        "colab": {}
      },
      "source": [
        "params = {\"batch_size\":20,\"epochs\":300,\"lr\":0.00010000,\"time_steps\":60}\n",
        "Time_Steps= params[\"time_steps\"]\n",
        "Batch_Size  =params[\"batch_size\"]\n",
        "tqdm_notebook.pandas('Processing')"
      ],
      "execution_count": 0,
      "outputs": []
    },
    {
      "cell_type": "code",
      "metadata": {
        "id": "xvn4cCD9_o65",
        "colab_type": "code",
        "outputId": "868a82d8-e58b-4d1a-9f2d-5be8c97f0285",
        "colab": {
          "base_uri": "https://localhost:8080/",
          "height": 149,
          "referenced_widgets": [
            "8871d05df26142c4964c6f497d215dd3",
            "dfcf5660d5c142f1be770864f20bdece",
            "3d376111a7064cb38339f18a3f1b6298",
            "d9cf223693e149ce860b928698fd4882",
            "467e2d4512f9434a901bcd811d2a78f7",
            "901f1f08885545b0b52ae75635ece183",
            "f8ea688bc39844a993af346c79dc8206",
            "e9a9975b04a74aa5be6273c1df873a35",
            "60d8ef97acca41ec8274bb77e625e4a9",
            "02c50db760b3419b9f028ccee5ecd96f",
            "e6eb3da15aa245aa918de26b9cd045be",
            "90d03968878d4a279116c4f12b1b9bd3",
            "09cd72c49adc42ddb11711ccde70d403",
            "fc554d19ab8a4f1aaef14dcdd4948f44",
            "037a365c8d21458b9871e0acb81048c2",
            "b8187607b5ed4277856074e3a5543ddc"
          ]
        }
      },
      "source": [
        "x_t,y_t = build_timeseries(x_train,3)\n",
        "x_t = trim_dataset(x_t,Batch_Size)\n",
        "y_t = trim_dataset(y_t,Batch_Size)\n",
        "x_test,y_test = build_timeseries(x_test,3)\n"
      ],
      "execution_count": 16,
      "outputs": [
        {
          "output_type": "display_data",
          "data": {
            "application/vnd.jupyter.widget-view+json": {
              "model_id": "8871d05df26142c4964c6f497d215dd3",
              "version_minor": 0,
              "version_major": 2
            },
            "text/plain": [
              "HBox(children=(IntProgress(value=0, max=11186), HTML(value='')))"
            ]
          },
          "metadata": {
            "tags": []
          }
        },
        {
          "output_type": "stream",
          "text": [
            "\n",
            "lengthof time_series i/o (11186, 60, 5) (11186,)\n"
          ],
          "name": "stdout"
        },
        {
          "output_type": "display_data",
          "data": {
            "application/vnd.jupyter.widget-view+json": {
              "model_id": "60d8ef97acca41ec8274bb77e625e4a9",
              "version_minor": 0,
              "version_major": 2
            },
            "text/plain": [
              "HBox(children=(IntProgress(value=0, max=2752), HTML(value='')))"
            ]
          },
          "metadata": {
            "tags": []
          }
        },
        {
          "output_type": "stream",
          "text": [
            "\n",
            "lengthof time_series i/o (2752, 60, 5) (2752,)\n"
          ],
          "name": "stdout"
        }
      ]
    },
    {
      "cell_type": "code",
      "metadata": {
        "id": "p26lpGOhArje",
        "colab_type": "code",
        "outputId": "d160c8d3-5f15-45bd-b91c-0f34fb2f2886",
        "colab": {
          "base_uri": "https://localhost:8080/",
          "height": 34
        }
      },
      "source": [
        "print(\"Batch trimmed size\",x_t.shape,y_t.shape)"
      ],
      "execution_count": 17,
      "outputs": [
        {
          "output_type": "stream",
          "text": [
            "Batch trimmed size (11180, 60, 5) (11180,)\n"
          ],
          "name": "stdout"
        }
      ]
    },
    {
      "cell_type": "code",
      "metadata": {
        "id": "4kKCra2ytJxF",
        "colab_type": "code",
        "colab": {}
      },
      "source": [
        "def create_model():\n",
        "  lstm_model = Sequential()\n",
        "  lstm_model.add(LSTM(100,batch_input_shape=(Batch_Size,Time_Steps,x_t.shape[2]),dropout=0.0,recurrent_dropout=0.0,stateful=True,return_sequences=True,kernel_initializer='random_uniform'))\n",
        "  lstm_model.add(Dropout(0.4))\n",
        "  lstm_model.add(LSTM(60,dropout=0.0))\n",
        "  lstm_model.add(Dropout(0.4))\n",
        "  lstm_model.add(Dense(20,activation='relu'))\n",
        "  lstm_model.add(Dense(1,activation='sigmoid'))\n",
        "  #optimizer = optimizer.RMSprop(lr=prams[\"lr\"])\n",
        "  lstm_model.compile(loss='mean_squared_error',optimizer='rmsprop')\n",
        "  return lstm_model\n",
        "\n"
      ],
      "execution_count": 0,
      "outputs": []
    },
    {
      "cell_type": "code",
      "metadata": {
        "id": "XtlOlbcVv0UL",
        "colab_type": "code",
        "outputId": "dd43705f-c37f-4e3b-bbf2-605a8caf67cb",
        "colab": {
          "base_uri": "https://localhost:8080/",
          "height": 139
        }
      },
      "source": [
        "model = create_model()"
      ],
      "execution_count": 19,
      "outputs": [
        {
          "output_type": "stream",
          "text": [
            "WARNING:tensorflow:From /usr/local/lib/python3.6/dist-packages/tensorflow/python/keras/initializers.py:119: calling RandomUniform.__init__ (from tensorflow.python.ops.init_ops) with dtype is deprecated and will be removed in a future version.\n",
            "Instructions for updating:\n",
            "Call initializer instance with the dtype argument instead of passing it to the constructor\n",
            "WARNING:tensorflow:From /usr/local/lib/python3.6/dist-packages/tensorflow/python/ops/init_ops.py:1251: calling VarianceScaling.__init__ (from tensorflow.python.ops.init_ops) with dtype is deprecated and will be removed in a future version.\n",
            "Instructions for updating:\n",
            "Call initializer instance with the dtype argument instead of passing it to the constructor\n"
          ],
          "name": "stdout"
        }
      ]
    },
    {
      "cell_type": "code",
      "metadata": {
        "id": "CVuzfj_G79z6",
        "colab_type": "code",
        "outputId": "46bf4ae8-fae8-4a25-f0ad-a92a36abd67e",
        "colab": {
          "base_uri": "https://localhost:8080/",
          "height": 1000
        }
      },
      "source": [
        "model.fit(x_t,y_t,epochs =100,batch_size=20)"
      ],
      "execution_count": 20,
      "outputs": [
        {
          "output_type": "stream",
          "text": [
            "WARNING:tensorflow:From /usr/local/lib/python3.6/dist-packages/tensorflow/python/ops/math_grad.py:1250: add_dispatch_support.<locals>.wrapper (from tensorflow.python.ops.array_ops) is deprecated and will be removed in a future version.\n",
            "Instructions for updating:\n",
            "Use tf.where in 2.0, which has the same broadcast rule as np.where\n",
            "Epoch 1/100\n",
            "11180/11180 [==============================] - 59s 5ms/sample - loss: 0.0030\n",
            "Epoch 2/100\n",
            "11180/11180 [==============================] - 58s 5ms/sample - loss: 5.9293e-04\n",
            "Epoch 3/100\n",
            "11180/11180 [==============================] - 58s 5ms/sample - loss: 4.7359e-04\n",
            "Epoch 4/100\n",
            "11180/11180 [==============================] - 59s 5ms/sample - loss: 4.1867e-04\n",
            "Epoch 5/100\n",
            "11180/11180 [==============================] - 59s 5ms/sample - loss: 3.6625e-04\n",
            "Epoch 6/100\n",
            "11180/11180 [==============================] - 59s 5ms/sample - loss: 3.5158e-04\n",
            "Epoch 7/100\n",
            "11180/11180 [==============================] - 58s 5ms/sample - loss: 3.1534e-04\n",
            "Epoch 8/100\n",
            "11180/11180 [==============================] - 58s 5ms/sample - loss: 3.0772e-04\n",
            "Epoch 9/100\n",
            "11180/11180 [==============================] - 58s 5ms/sample - loss: 3.0540e-04\n",
            "Epoch 10/100\n",
            "11180/11180 [==============================] - 58s 5ms/sample - loss: 2.7922e-04\n",
            "Epoch 11/100\n",
            "11180/11180 [==============================] - 58s 5ms/sample - loss: 2.6595e-04\n",
            "Epoch 12/100\n",
            "11180/11180 [==============================] - 58s 5ms/sample - loss: 2.5132e-04\n",
            "Epoch 13/100\n",
            "11180/11180 [==============================] - 58s 5ms/sample - loss: 2.4965e-04\n",
            "Epoch 14/100\n",
            "11180/11180 [==============================] - 58s 5ms/sample - loss: 2.4146e-04\n",
            "Epoch 15/100\n",
            "11180/11180 [==============================] - 58s 5ms/sample - loss: 2.3077e-04\n",
            "Epoch 16/100\n",
            "11180/11180 [==============================] - 58s 5ms/sample - loss: 2.2477e-04\n",
            "Epoch 17/100\n",
            "11180/11180 [==============================] - 58s 5ms/sample - loss: 2.1979e-04\n",
            "Epoch 18/100\n",
            "11180/11180 [==============================] - 58s 5ms/sample - loss: 2.1473e-04\n",
            "Epoch 19/100\n",
            "11180/11180 [==============================] - 57s 5ms/sample - loss: 2.0387e-04\n",
            "Epoch 20/100\n",
            "11180/11180 [==============================] - 57s 5ms/sample - loss: 1.9657e-04\n",
            "Epoch 21/100\n",
            "11180/11180 [==============================] - 57s 5ms/sample - loss: 2.0416e-04\n",
            "Epoch 22/100\n",
            "11180/11180 [==============================] - 57s 5ms/sample - loss: 1.9785e-04\n",
            "Epoch 23/100\n",
            "11180/11180 [==============================] - 57s 5ms/sample - loss: 1.9064e-04\n",
            "Epoch 24/100\n",
            "11180/11180 [==============================] - 57s 5ms/sample - loss: 1.8719e-04\n",
            "Epoch 25/100\n",
            "11180/11180 [==============================] - 57s 5ms/sample - loss: 1.8676e-04\n",
            "Epoch 26/100\n",
            "11180/11180 [==============================] - 58s 5ms/sample - loss: 1.7826e-04\n",
            "Epoch 27/100\n",
            "11180/11180 [==============================] - 57s 5ms/sample - loss: 1.7522e-04\n",
            "Epoch 28/100\n",
            "11180/11180 [==============================] - 57s 5ms/sample - loss: 1.7164e-04\n",
            "Epoch 29/100\n",
            "11180/11180 [==============================] - 58s 5ms/sample - loss: 1.6447e-04\n",
            "Epoch 30/100\n",
            "11180/11180 [==============================] - 58s 5ms/sample - loss: 1.6292e-04\n",
            "Epoch 31/100\n",
            "11180/11180 [==============================] - 57s 5ms/sample - loss: 1.5710e-04\n",
            "Epoch 32/100\n",
            "11180/11180 [==============================] - 58s 5ms/sample - loss: 1.5882e-04\n",
            "Epoch 33/100\n",
            "11180/11180 [==============================] - 58s 5ms/sample - loss: 1.5520e-04\n",
            "Epoch 34/100\n",
            "11180/11180 [==============================] - 57s 5ms/sample - loss: 1.4946e-04\n",
            "Epoch 35/100\n",
            "11180/11180 [==============================] - 58s 5ms/sample - loss: 1.4690e-04\n",
            "Epoch 36/100\n",
            "11180/11180 [==============================] - 58s 5ms/sample - loss: 1.4225e-04\n",
            "Epoch 37/100\n",
            "11180/11180 [==============================] - 57s 5ms/sample - loss: 1.4670e-04\n",
            "Epoch 38/100\n",
            "11180/11180 [==============================] - 57s 5ms/sample - loss: 1.3848e-04\n",
            "Epoch 39/100\n",
            "11180/11180 [==============================] - 56s 5ms/sample - loss: 1.4187e-04\n",
            "Epoch 40/100\n",
            "11180/11180 [==============================] - 57s 5ms/sample - loss: 1.4301e-04\n",
            "Epoch 41/100\n",
            "11180/11180 [==============================] - 58s 5ms/sample - loss: 1.3557e-04\n",
            "Epoch 42/100\n",
            "11180/11180 [==============================] - 59s 5ms/sample - loss: 1.3036e-04\n",
            "Epoch 43/100\n",
            "11180/11180 [==============================] - 59s 5ms/sample - loss: 1.3072e-04\n",
            "Epoch 44/100\n",
            "11180/11180 [==============================] - 59s 5ms/sample - loss: 1.3096e-04\n",
            "Epoch 45/100\n",
            "11180/11180 [==============================] - 59s 5ms/sample - loss: 1.3088e-04\n",
            "Epoch 46/100\n",
            "11180/11180 [==============================] - 59s 5ms/sample - loss: 1.2384e-04\n",
            "Epoch 47/100\n",
            "11180/11180 [==============================] - 58s 5ms/sample - loss: 1.1721e-04\n",
            "Epoch 48/100\n",
            "11180/11180 [==============================] - 58s 5ms/sample - loss: 1.2663e-04\n",
            "Epoch 49/100\n",
            "11180/11180 [==============================] - 59s 5ms/sample - loss: 1.1827e-04\n",
            "Epoch 50/100\n",
            "11180/11180 [==============================] - 58s 5ms/sample - loss: 1.1636e-04\n",
            "Epoch 51/100\n",
            "11180/11180 [==============================] - 58s 5ms/sample - loss: 1.1634e-04\n",
            "Epoch 52/100\n",
            "11180/11180 [==============================] - 58s 5ms/sample - loss: 1.1181e-04\n",
            "Epoch 53/100\n",
            "11180/11180 [==============================] - 58s 5ms/sample - loss: 1.0786e-04\n",
            "Epoch 54/100\n",
            "11180/11180 [==============================] - 58s 5ms/sample - loss: 1.0732e-04\n",
            "Epoch 55/100\n",
            "11180/11180 [==============================] - 58s 5ms/sample - loss: 1.0651e-04\n",
            "Epoch 56/100\n",
            "11180/11180 [==============================] - 58s 5ms/sample - loss: 1.0771e-04\n",
            "Epoch 57/100\n",
            "11180/11180 [==============================] - 58s 5ms/sample - loss: 1.0679e-04\n",
            "Epoch 58/100\n",
            "11180/11180 [==============================] - 58s 5ms/sample - loss: 1.0536e-04\n",
            "Epoch 59/100\n",
            "11180/11180 [==============================] - 58s 5ms/sample - loss: 1.3641e-04\n",
            "Epoch 60/100\n",
            "11180/11180 [==============================] - 58s 5ms/sample - loss: 1.0162e-04\n",
            "Epoch 61/100\n",
            "11180/11180 [==============================] - 58s 5ms/sample - loss: 9.3950e-05\n",
            "Epoch 62/100\n",
            "11180/11180 [==============================] - 58s 5ms/sample - loss: 9.4459e-05\n",
            "Epoch 63/100\n",
            "11180/11180 [==============================] - 57s 5ms/sample - loss: 9.6384e-05\n",
            "Epoch 64/100\n",
            "11180/11180 [==============================] - 57s 5ms/sample - loss: 9.4173e-05\n",
            "Epoch 65/100\n",
            "11180/11180 [==============================] - 61s 5ms/sample - loss: 8.7797e-05\n",
            "Epoch 66/100\n",
            "11180/11180 [==============================] - 59s 5ms/sample - loss: 8.8667e-05\n",
            "Epoch 67/100\n",
            "11180/11180 [==============================] - 59s 5ms/sample - loss: 8.8157e-05\n",
            "Epoch 68/100\n",
            "11180/11180 [==============================] - 60s 5ms/sample - loss: 8.6100e-05\n",
            "Epoch 69/100\n",
            "11180/11180 [==============================] - 59s 5ms/sample - loss: 8.5709e-05\n",
            "Epoch 70/100\n",
            "11180/11180 [==============================] - 59s 5ms/sample - loss: 8.3413e-05\n",
            "Epoch 71/100\n",
            "11180/11180 [==============================] - 60s 5ms/sample - loss: 8.2850e-05\n",
            "Epoch 72/100\n",
            "11180/11180 [==============================] - 60s 5ms/sample - loss: 8.2993e-05\n",
            "Epoch 73/100\n",
            "11180/11180 [==============================] - 60s 5ms/sample - loss: 8.2056e-05\n",
            "Epoch 74/100\n",
            "11180/11180 [==============================] - 59s 5ms/sample - loss: 8.2413e-05\n",
            "Epoch 75/100\n",
            "11180/11180 [==============================] - 59s 5ms/sample - loss: 7.8918e-05\n",
            "Epoch 76/100\n",
            "11180/11180 [==============================] - 60s 5ms/sample - loss: 7.9021e-05\n",
            "Epoch 77/100\n",
            "11180/11180 [==============================] - 60s 5ms/sample - loss: 7.8268e-05\n",
            "Epoch 78/100\n",
            "11180/11180 [==============================] - 59s 5ms/sample - loss: 8.4563e-05\n",
            "Epoch 79/100\n",
            "11180/11180 [==============================] - 59s 5ms/sample - loss: 7.7043e-05\n",
            "Epoch 80/100\n",
            "11180/11180 [==============================] - 60s 5ms/sample - loss: 8.0437e-05\n",
            "Epoch 81/100\n",
            "11180/11180 [==============================] - 60s 5ms/sample - loss: 7.7087e-05\n",
            "Epoch 82/100\n",
            "11180/11180 [==============================] - 60s 5ms/sample - loss: 8.1792e-05\n",
            "Epoch 83/100\n",
            "11180/11180 [==============================] - 59s 5ms/sample - loss: 7.7736e-05\n",
            "Epoch 84/100\n",
            "11180/11180 [==============================] - 59s 5ms/sample - loss: 7.2575e-05\n",
            "Epoch 85/100\n",
            "11180/11180 [==============================] - 59s 5ms/sample - loss: 7.2890e-05\n",
            "Epoch 86/100\n",
            "11180/11180 [==============================] - 66s 6ms/sample - loss: 7.3585e-05\n",
            "Epoch 87/100\n",
            "11180/11180 [==============================] - 59s 5ms/sample - loss: 7.4178e-05\n",
            "Epoch 88/100\n",
            "11180/11180 [==============================] - 60s 5ms/sample - loss: 6.8652e-05\n",
            "Epoch 89/100\n",
            "11180/11180 [==============================] - 60s 5ms/sample - loss: 7.1767e-05\n",
            "Epoch 90/100\n",
            "11180/11180 [==============================] - 60s 5ms/sample - loss: 7.2039e-05\n",
            "Epoch 91/100\n",
            "11180/11180 [==============================] - 60s 5ms/sample - loss: 7.1795e-05\n",
            "Epoch 92/100\n",
            "11180/11180 [==============================] - 60s 5ms/sample - loss: 6.9923e-05\n",
            "Epoch 93/100\n",
            "11180/11180 [==============================] - 60s 5ms/sample - loss: 7.1054e-05\n",
            "Epoch 94/100\n",
            "11180/11180 [==============================] - 60s 5ms/sample - loss: 6.9836e-05\n",
            "Epoch 95/100\n",
            "11180/11180 [==============================] - 60s 5ms/sample - loss: 7.0810e-05\n",
            "Epoch 96/100\n",
            "11180/11180 [==============================] - 60s 5ms/sample - loss: 6.9887e-05\n",
            "Epoch 97/100\n",
            "11180/11180 [==============================] - 60s 5ms/sample - loss: 7.2666e-05\n",
            "Epoch 98/100\n",
            "11180/11180 [==============================] - 60s 5ms/sample - loss: 6.8066e-05\n",
            "Epoch 99/100\n",
            "11180/11180 [==============================] - 59s 5ms/sample - loss: 7.0409e-05\n",
            "Epoch 100/100\n",
            "11180/11180 [==============================] - 60s 5ms/sample - loss: 6.8852e-05\n"
          ],
          "name": "stdout"
        },
        {
          "output_type": "execute_result",
          "data": {
            "text/plain": [
              "<tensorflow.python.keras.callbacks.History at 0x7f2f388e5390>"
            ]
          },
          "metadata": {
            "tags": []
          },
          "execution_count": 20
        }
      ]
    },
    {
      "cell_type": "code",
      "metadata": {
        "id": "I1aJmnAA15nd",
        "colab_type": "code",
        "outputId": "ac31dc54-c299-4a37-8f0a-1d94851a9f6a",
        "colab": {
          "base_uri": "https://localhost:8080/",
          "height": 122
        }
      },
      "source": [
        "from google.colab import drive\n",
        "drive.mount('/content/drive')"
      ],
      "execution_count": 21,
      "outputs": [
        {
          "output_type": "stream",
          "text": [
            "Go to this URL in a browser: https://accounts.google.com/o/oauth2/auth?client_id=947318989803-6bn6qk8qdgf4n4g3pfee6491hc0brc4i.apps.googleusercontent.com&redirect_uri=urn%3aietf%3awg%3aoauth%3a2.0%3aoob&response_type=code&scope=email%20https%3a%2f%2fwww.googleapis.com%2fauth%2fdocs.test%20https%3a%2f%2fwww.googleapis.com%2fauth%2fdrive%20https%3a%2f%2fwww.googleapis.com%2fauth%2fdrive.photos.readonly%20https%3a%2f%2fwww.googleapis.com%2fauth%2fpeopleapi.readonly\n",
            "\n",
            "Enter your authorization code:\n",
            "··········\n",
            "Mounted at /content/drive\n"
          ],
          "name": "stdout"
        }
      ]
    },
    {
      "cell_type": "code",
      "metadata": {
        "id": "NTq13Epc2E9T",
        "colab_type": "code",
        "colab": {}
      },
      "source": [
        "model=load_model('/content/drive/My Drive/my_model.h')"
      ],
      "execution_count": 0,
      "outputs": []
    },
    {
      "cell_type": "code",
      "metadata": {
        "id": "kxmV4jPi2E5-",
        "colab_type": "code",
        "colab": {}
      },
      "source": [
        ""
      ],
      "execution_count": 0,
      "outputs": []
    },
    {
      "cell_type": "code",
      "metadata": {
        "id": "WGCRQWTROZND",
        "colab_type": "code",
        "outputId": "3a0d92bf-c7a4-42ef-cbcf-f9ea55fc8483",
        "colab": {
          "base_uri": "https://localhost:8080/",
          "height": 34
        }
      },
      "source": [
        "y_pred = model.predict(trim_dataset(x_test,Batch_Size),batch_size=Batch_Size)  \n",
        "y_pred.shape"
      ],
      "execution_count": 22,
      "outputs": [
        {
          "output_type": "execute_result",
          "data": {
            "text/plain": [
              "(2740, 1)"
            ]
          },
          "metadata": {
            "tags": []
          },
          "execution_count": 22
        }
      ]
    },
    {
      "cell_type": "code",
      "metadata": {
        "id": "LCTR-SFtx_6x",
        "colab_type": "code",
        "outputId": "4272d7d6-08f0-43c7-d4bb-2cc52933d4c0",
        "colab": {
          "base_uri": "https://localhost:8080/",
          "height": 34
        }
      },
      "source": [
        "y_test =trim_dataset(y_test,Batch_Size)\n",
        "error = mean_squared_error(y_test,y_pred)\n",
        "print(\"error is\",error)\n"
      ],
      "execution_count": 23,
      "outputs": [
        {
          "output_type": "stream",
          "text": [
            "error is 0.002479768735686794\n"
          ],
          "name": "stdout"
        }
      ]
    },
    {
      "cell_type": "code",
      "metadata": {
        "id": "RDrmFNLLztN1",
        "colab_type": "code",
        "outputId": "f54c5eb1-1f88-4fc9-ad9e-d513d2074792",
        "colab": {
          "base_uri": "https://localhost:8080/",
          "height": 306
        }
      },
      "source": [
        "y_pred_org = (y_pred*min_max_scaler.data_range_[3])+min_max_scaler.data_min_[3]\n",
        "\n",
        "y_test_t_org = (y_test*min_max_scaler.data_range_[3])+min_max_scaler.data_min_[3]\n",
        "print(y_pred_org[0:15])\n",
        "print(y_test_t_org[0:15])\n"
      ],
      "execution_count": 24,
      "outputs": [
        {
          "output_type": "stream",
          "text": [
            "[[25.877394]\n",
            " [25.904617]\n",
            " [25.894909]\n",
            " [25.89793 ]\n",
            " [26.164558]\n",
            " [26.202868]\n",
            " [26.559055]\n",
            " [27.413282]\n",
            " [28.115456]\n",
            " [28.284508]\n",
            " [28.458048]\n",
            " [28.36809 ]\n",
            " [28.19331 ]\n",
            " [28.11065 ]\n",
            " [28.239218]]\n",
            "[28.25  28.178 28.22  28.234 28.5   28.468 29.154 30.116 30.392 30.602\n",
            " 30.296 30.201 30.134 30.247 30.15 ]\n"
          ],
          "name": "stdout"
        }
      ]
    },
    {
      "cell_type": "code",
      "metadata": {
        "id": "ool_Mv280mjM",
        "colab_type": "code",
        "colab": {}
      },
      "source": [
        "model.save('/content/drive/My Drive/my_model.h')"
      ],
      "execution_count": 0,
      "outputs": []
    },
    {
      "cell_type": "code",
      "metadata": {
        "id": "9BWeDarP3Aui",
        "colab_type": "code",
        "outputId": "b46b4a6b-f71f-470b-acad-c3533d48f534",
        "colab": {
          "base_uri": "https://localhost:8080/",
          "height": 312
        }
      },
      "source": [
        "plt.plot(y_test_t_org)\n",
        "plt.plot(y_pred_org)\n",
        "plt.xlabel(\"Days\")\n",
        "plt.ylabel(\"Price\")\n",
        "plt.title('Prediction vs Real Stock Price')\n",
        "plt.legend(['Prediction','Real'],loc='upper left')\n",
        "\n"
      ],
      "execution_count": 26,
      "outputs": [
        {
          "output_type": "execute_result",
          "data": {
            "text/plain": [
              "<matplotlib.legend.Legend at 0x7f2f3403afd0>"
            ]
          },
          "metadata": {
            "tags": []
          },
          "execution_count": 26
        },
        {
          "output_type": "display_data",
          "data": {
            "image/png": "[encoded data removed]",
            "text/plain": [
              "<Figure size 432x288 with 1 Axes>"
            ]
          },
          "metadata": {
            "tags": []
          }
        }
      ]
    },
    {
      "cell_type": "code",
      "metadata": {
        "id": "WZcODEX5Duew",
        "colab_type": "code",
        "colab": {}
      },
      "source": [
        ""
      ],
      "execution_count": 0,
      "outputs": []
    }
  ]
}